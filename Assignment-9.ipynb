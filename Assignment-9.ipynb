{
 "cells": [
  {
   "cell_type": "markdown",
   "id": "01c2c934",
   "metadata": {},
   "source": [
    "1. To what does a relative path refer?"
   ]
  },
  {
   "cell_type": "markdown",
   "id": "a8602934",
   "metadata": {},
   "source": [
    "Ans. A relative path refers to a location that is relative to a current directory."
   ]
  },
  {
   "cell_type": "markdown",
   "id": "86e100a4",
   "metadata": {},
   "source": [
    "2. What does an absolute path start with your operating system?\n"
   ]
  },
  {
   "cell_type": "markdown",
   "id": "3ed017d8",
   "metadata": {},
   "source": [
    "Ans.An absolute path refers to the complete details needed to locate a file or folder, starting from the root element and ending with the other subdirectories. "
   ]
  },
  {
   "cell_type": "markdown",
   "id": "dbefd276",
   "metadata": {},
   "source": [
    "3. What do the functions os.getcwd() and os.chdir() do?"
   ]
  },
  {
   "cell_type": "markdown",
   "id": "cf898b73",
   "metadata": {},
   "source": [
    "Ans. getcwd() : CWD stands for Current Working Directory. This function allows you to see what your current working directory is. chdir(\"path-to-dir\") : Short for CHange DIRectory, this function allows you to set the current working directory to a path of your choice."
   ]
  },
  {
   "cell_type": "markdown",
   "id": "5713e15c",
   "metadata": {},
   "source": [
    "4. What are the . and .. folders?"
   ]
  },
  {
   "cell_type": "markdown",
   "id": "54d33cad",
   "metadata": {},
   "source": [
    "Ans. . folders represent the current folder.\n",
    "     .. folders rep"
   ]
  },
  {
   "cell_type": "markdown",
   "id": "d6d9696e",
   "metadata": {},
   "source": [
    "5. In C:\\bacon\\eggs\\spam.txt, which part is the dir name, and which part is the base name?"
   ]
  },
  {
   "cell_type": "markdown",
   "id": "912a7122",
   "metadata": {},
   "source": [
    "Ans. C:\\bacon\\eggs is the dir name, while spam. txt is the base name."
   ]
  },
  {
   "cell_type": "markdown",
   "id": "340c8ee8",
   "metadata": {},
   "source": [
    "6. What are the three “mode” arguments that can be passed to the open() function?"
   ]
  },
  {
   "cell_type": "markdown",
   "id": "f5b15816",
   "metadata": {},
   "source": [
    "Ans.    r : Opens the file in read-only mode. ...                           \n",
    "    rb : Opens the file as read-only in binary format and starts reading from the beginning of the file. ...            \n",
    "    r+ : Opens a file for reading and writing, placing the pointer at the beginning of the file."
   ]
  },
  {
   "cell_type": "markdown",
   "id": "147f2446",
   "metadata": {},
   "source": [
    "7. What happens if an existing file is opened in write mode?"
   ]
  },
  {
   "cell_type": "markdown",
   "id": "4cfdb9d9",
   "metadata": {},
   "source": [
    "Ans. If a file with the same name already exists, its contents are discarded and the file is treated as a new empty file."
   ]
  },
  {
   "cell_type": "markdown",
   "id": "1f371843",
   "metadata": {},
   "source": [
    "8. How do you tell the difference between read() and readlines()?"
   ]
  },
  {
   "cell_type": "markdown",
   "id": "04daf0d2",
   "metadata": {},
   "source": [
    "Ans. The main difference is that read() will read the whole file at once and then print out the first characters that take up as many bytes as you specify in the parenthesis versus the readline() that will read and print out only the first characters that take up as many bytes as you specify in the parenthesis."
   ]
  },
  {
   "cell_type": "markdown",
   "id": "be56bb49",
   "metadata": {},
   "source": [
    "9. What data structure does a shelf value resemble?"
   ]
  },
  {
   "cell_type": "markdown",
   "id": "3af06bd2",
   "metadata": {},
   "source": [
    "Ans. A shelf value resembles a dictionary value; it has keys and values, along with keys() and values() methods that work similarly to the dictionary methods of the same names."
   ]
  },
  {
   "cell_type": "code",
   "execution_count": null,
   "id": "70a4d45e",
   "metadata": {},
   "outputs": [],
   "source": []
  }
 ],
 "metadata": {
  "kernelspec": {
   "display_name": "Python 3 (ipykernel)",
   "language": "python",
   "name": "python3"
  },
  "language_info": {
   "codemirror_mode": {
    "name": "ipython",
    "version": 3
   },
   "file_extension": ".py",
   "mimetype": "text/x-python",
   "name": "python",
   "nbconvert_exporter": "python",
   "pygments_lexer": "ipython3",
   "version": "3.7.11"
  }
 },
 "nbformat": 4,
 "nbformat_minor": 5
}

{
 "cells": [
  {
   "cell_type": "markdown",
   "id": "ebf6e54b",
   "metadata": {},
   "source": [
    "1. Write a Python program to convert kilometers to miles?"
   ]
  },
  {
   "cell_type": "code",
   "execution_count": 3,
   "id": "84bc3241",
   "metadata": {},
   "outputs": [
    {
     "name": "stdout",
     "output_type": "stream",
     "text": [
      "provide kilometers4\n",
      "value in miles 2.4856\n"
     ]
    }
   ],
   "source": [
    "def km2miles(km):\n",
    "    print(\"value in miles\",km * 0.6214)\n",
    " \n",
    "km = int(input(\"provide kilometers \"))\n",
    "km2miles(km)"
   ]
  },
  {
   "cell_type": "markdown",
   "id": "d07cb14c",
   "metadata": {},
   "source": [
    "2.Write a Python program to convert Celsius to Fahrenheit?"
   ]
  },
  {
   "cell_type": "code",
   "execution_count": 4,
   "id": "1481b334",
   "metadata": {},
   "outputs": [
    {
     "name": "stdout",
     "output_type": "stream",
     "text": [
      "Given temperature in Celsius34\n",
      "value in Fahrenheit 93.2\n"
     ]
    }
   ],
   "source": [
    "def C_to_F(value):\n",
    "    print(\"value in Fahrenheit\",(value * 1.8) + 32)\n",
    "\n",
    "Celsius = int(input(\"Given temperature in Celsius \"))\n",
    "C_to_F(Celsius)"
   ]
  },
  {
   "cell_type": "markdown",
   "id": "11efd68b",
   "metadata": {},
   "source": [
    "3.Write a Python program to display calendar?"
   ]
  },
  {
   "cell_type": "code",
   "execution_count": 8,
   "id": "109c4456",
   "metadata": {},
   "outputs": [
    {
     "name": "stdout",
     "output_type": "stream",
     "text": [
      "Year 2022\n"
     ]
    },
    {
     "data": {
      "text/plain": [
       "'                                  2022\\n\\n      January                   February                   March\\nMo Tu We Th Fr Sa Su      Mo Tu We Th Fr Sa Su      Mo Tu We Th Fr Sa Su\\n                1  2          1  2  3  4  5  6          1  2  3  4  5  6\\n 3  4  5  6  7  8  9       7  8  9 10 11 12 13       7  8  9 10 11 12 13\\n10 11 12 13 14 15 16      14 15 16 17 18 19 20      14 15 16 17 18 19 20\\n17 18 19 20 21 22 23      21 22 23 24 25 26 27      21 22 23 24 25 26 27\\n24 25 26 27 28 29 30      28                        28 29 30 31\\n31\\n\\n       April                      May                       June\\nMo Tu We Th Fr Sa Su      Mo Tu We Th Fr Sa Su      Mo Tu We Th Fr Sa Su\\n             1  2  3                         1             1  2  3  4  5\\n 4  5  6  7  8  9 10       2  3  4  5  6  7  8       6  7  8  9 10 11 12\\n11 12 13 14 15 16 17       9 10 11 12 13 14 15      13 14 15 16 17 18 19\\n18 19 20 21 22 23 24      16 17 18 19 20 21 22      20 21 22 23 24 25 26\\n25 26 27 28 29 30         23 24 25 26 27 28 29      27 28 29 30\\n                          30 31\\n\\n        July                     August                  September\\nMo Tu We Th Fr Sa Su      Mo Tu We Th Fr Sa Su      Mo Tu We Th Fr Sa Su\\n             1  2  3       1  2  3  4  5  6  7                1  2  3  4\\n 4  5  6  7  8  9 10       8  9 10 11 12 13 14       5  6  7  8  9 10 11\\n11 12 13 14 15 16 17      15 16 17 18 19 20 21      12 13 14 15 16 17 18\\n18 19 20 21 22 23 24      22 23 24 25 26 27 28      19 20 21 22 23 24 25\\n25 26 27 28 29 30 31      29 30 31                  26 27 28 29 30\\n\\n      October                   November                  December\\nMo Tu We Th Fr Sa Su      Mo Tu We Th Fr Sa Su      Mo Tu We Th Fr Sa Su\\n                1  2          1  2  3  4  5  6                1  2  3  4\\n 3  4  5  6  7  8  9       7  8  9 10 11 12 13       5  6  7  8  9 10 11\\n10 11 12 13 14 15 16      14 15 16 17 18 19 20      12 13 14 15 16 17 18\\n17 18 19 20 21 22 23      21 22 23 24 25 26 27      19 20 21 22 23 24 25\\n24 25 26 27 28 29 30      28 29 30                  26 27 28 29 30 31\\n31\\n'"
      ]
     },
     "execution_count": 8,
     "metadata": {},
     "output_type": "execute_result"
    }
   ],
   "source": [
    "import calendar\n",
    "try:\n",
    "    year = int(input(\"Year \"))\n",
    "except IOError as e:\n",
    "    print(e)\n",
    "    \n",
    "calendar.calendar(year)"
   ]
  },
  {
   "cell_type": "markdown",
   "id": "88cd33dc",
   "metadata": {},
   "source": [
    "4.Write a Python program to solve quadratic equation?"
   ]
  },
  {
   "cell_type": "code",
   "execution_count": 1,
   "id": "83bb4cf4",
   "metadata": {},
   "outputs": [
    {
     "name": "stdout",
     "output_type": "stream",
     "text": [
      "Enter value of a 1\n",
      "Enter value of b 5\n",
      "Enter value of c 6\n",
      "The solution are (-3+0j) and (-2+0j)\n"
     ]
    }
   ],
   "source": [
    "import cmath\n",
    "\n",
    "a = int(input(\"Enter value of a \"))\n",
    "b = int(input(\"Enter value of b \"))\n",
    "c = int(input(\"Enter value of c \"))\n",
    "\n",
    "d = (b**2) - (4*a*c)\n",
    "\n",
    "sol1 = (-b-cmath.sqrt(d))/(2*a)\n",
    "sol2 = (-b+cmath.sqrt(d))/(2*a)\n",
    "print(\"The solution are {0} and {1}\".format(sol1,sol2))"
   ]
  },
  {
   "cell_type": "markdown",
   "id": "1a824a37",
   "metadata": {},
   "source": [
    "5.Write a Python program to swap two variables without temp variable?"
   ]
  },
  {
   "cell_type": "code",
   "execution_count": 5,
   "id": "6050b8db",
   "metadata": {},
   "outputs": [
    {
     "name": "stdout",
     "output_type": "stream",
     "text": [
      "First Value 4\n",
      "Second Value 7\n",
      "Value after the swapping of First value is 7 and for Second value is 4\n"
     ]
    }
   ],
   "source": [
    "def swap(a,b):\n",
    "    a,b = b,a\n",
    "    print(\"Value after the swapping of First value is {0} and for Second value is {1}\".format(a,b))\n",
    "\n",
    "a = int(input(\"First Value \"))\n",
    "b = int(input(\"Second Value \"))\n",
    "swap(a,b)"
   ]
  },
  {
   "cell_type": "code",
   "execution_count": null,
   "id": "32a5042f",
   "metadata": {},
   "outputs": [],
   "source": []
  }
 ],
 "metadata": {
  "kernelspec": {
   "display_name": "Python 3 (ipykernel)",
   "language": "python",
   "name": "python3"
  },
  "language_info": {
   "codemirror_mode": {
    "name": "ipython",
    "version": 3
   },
   "file_extension": ".py",
   "mimetype": "text/x-python",
   "name": "python",
   "nbconvert_exporter": "python",
   "pygments_lexer": "ipython3",
   "version": "3.7.11"
  }
 },
 "nbformat": 4,
 "nbformat_minor": 5
}

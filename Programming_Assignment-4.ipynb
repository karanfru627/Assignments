{
 "cells": [
  {
   "cell_type": "markdown",
   "id": "0bafa112",
   "metadata": {},
   "source": [
    "1. Write a Python Program to Find the Factorial of a Number?"
   ]
  },
  {
   "cell_type": "code",
   "execution_count": 1,
   "id": "0cf4421b",
   "metadata": {},
   "outputs": [
    {
     "name": "stdout",
     "output_type": "stream",
     "text": [
      "ENTER NUMBER 5\n",
      "120\n"
     ]
    }
   ],
   "source": [
    "num = int(input(\"ENTER NUMBER \"))\n",
    "fac = 1\n",
    "for i in range(1,num+1):\n",
    "    fac = fac * i\n",
    "print(fac)"
   ]
  },
  {
   "cell_type": "code",
   "execution_count": 4,
   "id": "10b08d4c",
   "metadata": {},
   "outputs": [
    {
     "name": "stdout",
     "output_type": "stream",
     "text": [
      "720\n"
     ]
    }
   ],
   "source": [
    "def fac(n):\n",
    "    if(n>=1):\n",
    "        return (n*fac(n-1))\n",
    "    else:\n",
    "        return 1\n",
    "print(fac(6))"
   ]
  },
  {
   "cell_type": "markdown",
   "id": "6d016a38",
   "metadata": {},
   "source": [
    "2. Write a Python Program to Display the multiplication Table?"
   ]
  },
  {
   "cell_type": "code",
   "execution_count": 5,
   "id": "e06bb96b",
   "metadata": {},
   "outputs": [
    {
     "name": "stdout",
     "output_type": "stream",
     "text": [
      "ENTER NUMBER 5\n",
      "5 x 1 = 5\n",
      "5 x 2 = 10\n",
      "5 x 3 = 15\n",
      "5 x 4 = 20\n",
      "5 x 5 = 25\n",
      "5 x 6 = 30\n",
      "5 x 7 = 35\n",
      "5 x 8 = 40\n",
      "5 x 9 = 45\n",
      "5 x 10 = 50\n"
     ]
    }
   ],
   "source": [
    "num = int(input(\"ENTER NUMBER \"))\n",
    "for i in range(1,11):\n",
    "    print(num, 'x', i, '=',num*i)"
   ]
  },
  {
   "cell_type": "markdown",
   "id": "1c71a58c",
   "metadata": {},
   "source": [
    "3. Write a Python Program to Print the Fibonacci sequence?"
   ]
  },
  {
   "cell_type": "code",
   "execution_count": 7,
   "id": "3e276c8e",
   "metadata": {},
   "outputs": [
    {
     "name": "stdout",
     "output_type": "stream",
     "text": [
      "ENTER NUMBER 10\n",
      "0 1 1 2 3 5 8 13 21 34 "
     ]
    }
   ],
   "source": [
    "num = int(input(\"ENTER NUMBER \"))\n",
    "a=0\n",
    "b=1\n",
    "for i in range(num):\n",
    "    print(a,end = \" \")\n",
    "    c=a+b\n",
    "    a,b=b,c"
   ]
  },
  {
   "cell_type": "markdown",
   "id": "7a026af2",
   "metadata": {},
   "source": [
    "4. Write a Python Program to Check Armstrong Number?"
   ]
  },
  {
   "cell_type": "code",
   "execution_count": 9,
   "id": "18fac4c4",
   "metadata": {},
   "outputs": [
    {
     "name": "stdout",
     "output_type": "stream",
     "text": [
      "ENTER NUMBER 663\n",
      "The Number is not a Armstrong\n"
     ]
    }
   ],
   "source": [
    "num = int(input(\"ENTER NUMBER \"))\n",
    "\n",
    "order = len(str(num))\n",
    "result = 0\n",
    "temp = num\n",
    "while temp > 0:\n",
    "    digit = temp % 10\n",
    "    result = result + digit**order\n",
    "    temp //=10\n",
    "\n",
    "if num == result:\n",
    "    print(\"The Number is Armstrong\")\n",
    "else:\n",
    "    print(\"The Number is not a Armstrong\")"
   ]
  },
  {
   "cell_type": "markdown",
   "id": "46d338b6",
   "metadata": {},
   "source": [
    "5. Write a Python Program to Find Armstrong Number in an Interval?"
   ]
  },
  {
   "cell_type": "code",
   "execution_count": 13,
   "id": "23a4841f",
   "metadata": {},
   "outputs": [
    {
     "name": "stdout",
     "output_type": "stream",
     "text": [
      "ENTER NUMBER 1000\n",
      "Armstrong Number in an Interval of 1000\n",
      "1 2 3 4 5 6 7 8 9 153 370 371 407 "
     ]
    }
   ],
   "source": [
    "num = int(input(\"ENTER NUMBER \"))\n",
    "\n",
    "\n",
    "print((\"Armstrong Number in an Interval of {}\").format(num))\n",
    "for i in range(1,num):\n",
    "    order = len(str(i))\n",
    "    result = 0\n",
    "    temp = i\n",
    "    while temp > 0:\n",
    "        digit = temp % 10\n",
    "        result = result + digit**order\n",
    "        temp //=10\n",
    "    \n",
    "    if i == result:\n",
    "        print(i,end = \" \")\n",
    "    "
   ]
  },
  {
   "cell_type": "markdown",
   "id": "3abcf422",
   "metadata": {},
   "source": [
    "6. Write a Python Program to Find the Sum of Natural Numbers?"
   ]
  },
  {
   "cell_type": "code",
   "execution_count": 14,
   "id": "9373e82e",
   "metadata": {},
   "outputs": [
    {
     "name": "stdout",
     "output_type": "stream",
     "text": [
      "ENTER NUMBER 16\n",
      "Sum of Natural Number is 136\n"
     ]
    }
   ],
   "source": [
    "num = int(input(\"ENTER NUMBER \"))\n",
    "result = 0\n",
    "for i in range(1,num+1):\n",
    "    result+=i\n",
    "print((\"Sum of Natural Number is {}\").format(result))"
   ]
  },
  {
   "cell_type": "code",
   "execution_count": null,
   "id": "b7976c4c",
   "metadata": {},
   "outputs": [],
   "source": []
  }
 ],
 "metadata": {
  "kernelspec": {
   "display_name": "Python 3 (ipykernel)",
   "language": "python",
   "name": "python3"
  },
  "language_info": {
   "codemirror_mode": {
    "name": "ipython",
    "version": 3
   },
   "file_extension": ".py",
   "mimetype": "text/x-python",
   "name": "python",
   "nbconvert_exporter": "python",
   "pygments_lexer": "ipython3",
   "version": "3.7.11"
  }
 },
 "nbformat": 4,
 "nbformat_minor": 5
}

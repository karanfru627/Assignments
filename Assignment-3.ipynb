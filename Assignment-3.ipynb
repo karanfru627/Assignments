{
 "cells": [
  {
   "cell_type": "markdown",
   "id": "340b7f0a",
   "metadata": {},
   "source": [
    "1. Why are functions advantageous to have in your programs?"
   ]
  },
  {
   "cell_type": "markdown",
   "id": "fcee99a7",
   "metadata": {},
   "source": [
    "Ans. Functions reduce the need for duplicate code. This makes programs shorter, easier to read, and easier to update."
   ]
  },
  {
   "cell_type": "markdown",
   "id": "b9376db2",
   "metadata": {},
   "source": [
    "2. When does the code in a function run: when it's specified or when it's called?"
   ]
  },
  {
   "cell_type": "markdown",
   "id": "eb1027f6",
   "metadata": {},
   "source": [
    "Ans.When the Function is called then only the code inside the function gets executed."
   ]
  },
  {
   "cell_type": "markdown",
   "id": "e8f06fcc",
   "metadata": {},
   "source": [
    "3. What statement creates a function?"
   ]
  },
  {
   "cell_type": "markdown",
   "id": "db7c60f5",
   "metadata": {},
   "source": [
    "Ans. The “def” keyword is a statement for defining a function in Python.\n",
    "Example - def fun():"
   ]
  },
  {
   "cell_type": "markdown",
   "id": "5b5e567a",
   "metadata": {},
   "source": [
    "4. What is the difference between a function and a function call?"
   ]
  },
  {
   "cell_type": "markdown",
   "id": "86dea48f",
   "metadata": {},
   "source": [
    "Ans. A function is a block of code that does a particular operation and returns a result. A function call is the code used to pass control to a function."
   ]
  },
  {
   "cell_type": "markdown",
   "id": "affd471a",
   "metadata": {},
   "source": [
    "5. How many global scopes are there in a Python program? How many local scopes?"
   ]
  },
  {
   "cell_type": "markdown",
   "id": "8ef8d43a",
   "metadata": {},
   "source": [
    "Ans. There can be only one global scope per program execution and many local scopes can be possible."
   ]
  },
  {
   "cell_type": "markdown",
   "id": "da1ed129",
   "metadata": {},
   "source": [
    "6. What happens to variables in a local scope when the function call returns?"
   ]
  },
  {
   "cell_type": "markdown",
   "id": "e2c3f76d",
   "metadata": {},
   "source": [
    "Ans. A local variable retains its value until the next time the function is called A local variable becomes undefined after the function call completes The local variable can be used outside the function any time after the function call completes."
   ]
  },
  {
   "cell_type": "markdown",
   "id": "09babbff",
   "metadata": {},
   "source": [
    "7. What is the concept of a return value? Is it possible to have a return value in an expression?"
   ]
  },
  {
   "cell_type": "markdown",
   "id": "78985d2e",
   "metadata": {},
   "source": [
    "Ans. A return is a value that a function returns to the calling script or function when it completes its task.You can use any Python object as a return value. Since everything in Python is an object, you can return strings, lists, tuples, dictionaries, functions, classes, instances, user-defined objects, and even modules or packages."
   ]
  },
  {
   "cell_type": "markdown",
   "id": "5a32f5af",
   "metadata": {},
   "source": [
    "8. If a function does not have a return statement, what is the return value of a call to that function?"
   ]
  },
  {
   "cell_type": "markdown",
   "id": "b7204589",
   "metadata": {},
   "source": [
    "Ans. A function without an explicit return statement returns None . "
   ]
  },
  {
   "cell_type": "markdown",
   "id": "1b1a5ba2",
   "metadata": {},
   "source": [
    "9. How do you make a function variable refer to the global variable?"
   ]
  },
  {
   "cell_type": "markdown",
   "id": "8fddc0e3",
   "metadata": {},
   "source": [
    "Ans. If you want to refer to a global variable in a function, you can use the global keyword to declare which variables are global."
   ]
  },
  {
   "cell_type": "markdown",
   "id": "792917fc",
   "metadata": {},
   "source": [
    "10. What is the data type of None?"
   ]
  },
  {
   "cell_type": "markdown",
   "id": "b2a4c17c",
   "metadata": {},
   "source": [
    "Ans. The None keyword is used to define a null value, or no value at all. None is not the same as 0, False, or an empty string. None is a data type of its own (NoneType) and only None can be None."
   ]
  },
  {
   "cell_type": "markdown",
   "id": "c7b0bc8e",
   "metadata": {},
   "source": [
    "11. What does the sentence import areallyourpetsnamederic do?"
   ]
  },
  {
   "cell_type": "markdown",
   "id": "4c0c748b",
   "metadata": {},
   "source": [
    "Ans. It will import all the functions, variables which is written inside the areallyyourpetsnamederic."
   ]
  },
  {
   "cell_type": "markdown",
   "id": "db51d5c9",
   "metadata": {},
   "source": [
    "12. If you had a bacon() feature in a spam module, what would you call it after importing spam?"
   ]
  },
  {
   "cell_type": "markdown",
   "id": "d2d3f610",
   "metadata": {},
   "source": [
    "Ans. spam.bacon()"
   ]
  },
  {
   "cell_type": "markdown",
   "id": "bd659edf",
   "metadata": {},
   "source": [
    "13. What can you do to save a programme from crashing if it encounters an error?"
   ]
  },
  {
   "cell_type": "markdown",
   "id": "95b67779",
   "metadata": {},
   "source": [
    "Ans. By logging and exception handling we can counters an error."
   ]
  },
  {
   "cell_type": "markdown",
   "id": "adf6397b",
   "metadata": {},
   "source": [
    "14. What is the purpose of the try clause? What is the purpose of the except clause?"
   ]
  },
  {
   "cell_type": "markdown",
   "id": "c35d75a5",
   "metadata": {},
   "source": [
    "Ans. The try block is used to check some code for errors i.e the code inside the try block will execute when there is no error in the program. Whereas the code inside the except block will execute whenever the program encounters some error in the preceding try block."
   ]
  },
  {
   "cell_type": "code",
   "execution_count": null,
   "id": "0d4a5fdf",
   "metadata": {},
   "outputs": [],
   "source": []
  }
 ],
 "metadata": {
  "kernelspec": {
   "display_name": "Python 3 (ipykernel)",
   "language": "python",
   "name": "python3"
  },
  "language_info": {
   "codemirror_mode": {
    "name": "ipython",
    "version": 3
   },
   "file_extension": ".py",
   "mimetype": "text/x-python",
   "name": "python",
   "nbconvert_exporter": "python",
   "pygments_lexer": "ipython3",
   "version": "3.7.11"
  }
 },
 "nbformat": 4,
 "nbformat_minor": 5
}

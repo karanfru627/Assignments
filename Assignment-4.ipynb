{
 "cells": [
  {
   "cell_type": "markdown",
   "id": "1448824a",
   "metadata": {},
   "source": [
    "1. What exactly is []?"
   ]
  },
  {
   "cell_type": "markdown",
   "id": "aa8a49d6",
   "metadata": {},
   "source": [
    " Ans. The empty list value, which is a list value that contains no items."
   ]
  },
  {
   "cell_type": "markdown",
   "id": "025a06a7",
   "metadata": {},
   "source": [
    "2. In a list of values stored in a variable called spam, how would you assign the value 'hello' as the third value? (Assume [2, 4, 6, 8, 10] are in spam.)"
   ]
  },
  {
   "cell_type": "markdown",
   "id": "7f4dddd8",
   "metadata": {},
   "source": [
    "Ans. spam[2] = 'hello'"
   ]
  },
  {
   "cell_type": "markdown",
   "id": "ee6311f1",
   "metadata": {},
   "source": [
    "3. What is the value of spam[int(int('3' * 2) / 11)]?"
   ]
  },
  {
   "cell_type": "markdown",
   "id": "f51faa28",
   "metadata": {},
   "source": [
    "Ans. (int('3'*2)/11) = 3\n",
    "spam[int(int('3' * 2) / 11)] = d"
   ]
  },
  {
   "cell_type": "markdown",
   "id": "e64835e5",
   "metadata": {},
   "source": [
    "4. What is the value of spam[-1]?"
   ]
  },
  {
   "cell_type": "markdown",
   "id": "a2680f9b",
   "metadata": {},
   "source": [
    "Ans. d"
   ]
  },
  {
   "cell_type": "markdown",
   "id": "aac6accf",
   "metadata": {},
   "source": [
    "5. What is the value of spam[:2]?"
   ]
  },
  {
   "cell_type": "markdown",
   "id": "5ab59910",
   "metadata": {},
   "source": [
    "spam[:2] = ['a', 'b']"
   ]
  },
  {
   "cell_type": "markdown",
   "id": "9f0e10f7",
   "metadata": {},
   "source": [
    "Let's pretend bacon has the list [3.14, 'cat,' 11, 'cat,' True] for the next three questions."
   ]
  },
  {
   "cell_type": "markdown",
   "id": "462a4d90",
   "metadata": {},
   "source": [
    "6. What is the value of bacon.index('cat')?"
   ]
  },
  {
   "cell_type": "markdown",
   "id": "6f7cdd54",
   "metadata": {},
   "source": [
    "Ans. 1"
   ]
  },
  {
   "cell_type": "markdown",
   "id": "0bc69945",
   "metadata": {},
   "source": [
    "7. How does bacon.append(99) change the look of the list value in bacon?"
   ]
  },
  {
   "cell_type": "markdown",
   "id": "42c9e53b",
   "metadata": {},
   "source": [
    "Ans. [3.14, 'cat', 11, 'cat', True, 99]"
   ]
  },
  {
   "cell_type": "markdown",
   "id": "70d75c6b",
   "metadata": {},
   "source": [
    "8. How does bacon.remove('cat') change the look of the list in bacon?"
   ]
  },
  {
   "cell_type": "markdown",
   "id": "5b20f645",
   "metadata": {},
   "source": [
    "Ans. [3.14, 11, 'cat', True, 99]"
   ]
  },
  {
   "cell_type": "markdown",
   "id": "5353732a",
   "metadata": {},
   "source": [
    "9. What are the list concatenation and list replication operators?"
   ]
  },
  {
   "cell_type": "markdown",
   "id": "8070dfbf",
   "metadata": {},
   "source": [
    "Ans. The operator for list concatenation is +, while the operator for replication is *."
   ]
  },
  {
   "cell_type": "markdown",
   "id": "addf9463",
   "metadata": {},
   "source": [
    "10. What is difference between the list methods append() and insert()?"
   ]
  },
  {
   "cell_type": "markdown",
   "id": "461451cf",
   "metadata": {},
   "source": [
    "Ans. append() is used to add value to the list at the end index whereas insert() add the value at a particular index which you have provided."
   ]
  },
  {
   "cell_type": "markdown",
   "id": "9a98d69b",
   "metadata": {},
   "source": [
    "11. What are the two methods for removing items from a list?"
   ]
  },
  {
   "cell_type": "markdown",
   "id": "83fc63b3",
   "metadata": {},
   "source": [
    "Ans. pop() and remove() are the two methods for removing items from the list"
   ]
  },
  {
   "cell_type": "markdown",
   "id": "855fe958",
   "metadata": {},
   "source": [
    "12. Describe how list values and string values are identical."
   ]
  },
  {
   "cell_type": "markdown",
   "id": "1a069251",
   "metadata": {},
   "source": [
    "Ans.  The similarity between Lists and Strings in Python is that both are sequences. "
   ]
  },
  {
   "cell_type": "markdown",
   "id": "00095824",
   "metadata": {},
   "source": [
    "13. What's the difference between tuples and lists?"
   ]
  },
  {
   "cell_type": "markdown",
   "id": "269cf08e",
   "metadata": {},
   "source": [
    "Ans. The key difference between the tuples and lists is that while the tuples are immutable objects the lists are mutable. "
   ]
  },
  {
   "cell_type": "markdown",
   "id": "0e29b673",
   "metadata": {},
   "source": [
    "14. How do you type a tuple value that only contains the integer 42?"
   ]
  },
  {
   "cell_type": "markdown",
   "id": "bcf453b5",
   "metadata": {},
   "source": [
    "Ans. (42,)"
   ]
  },
  {
   "cell_type": "markdown",
   "id": "37c28e7b",
   "metadata": {},
   "source": [
    "15. How do you get a list value's tuple form? How do you get a tuple value's list form?"
   ]
  },
  {
   "cell_type": "code",
   "execution_count": 4,
   "id": "ad1921f9",
   "metadata": {},
   "outputs": [
    {
     "data": {
      "text/plain": [
       "[('karan',), ('sid',), ('ineuron',), ('AI',), ('python',)]"
      ]
     },
     "execution_count": 4,
     "metadata": {},
     "output_type": "execute_result"
    }
   ],
   "source": [
    "name = [['karan'], ['sid'], ['ineuron'],['AI'], ['python']]\n",
    "data = list(map(tuple, name))\n",
    "data"
   ]
  },
  {
   "cell_type": "code",
   "execution_count": 5,
   "id": "39bb2c7f",
   "metadata": {},
   "outputs": [
    {
     "data": {
      "text/plain": [
       "(['karan'], ['sid'], ['ineuron'], ['AI'], ['python'])"
      ]
     },
     "execution_count": 5,
     "metadata": {},
     "output_type": "execute_result"
    }
   ],
   "source": [
    "name = (('karan',), ('sid',), ('ineuron',),('AI',), ('python',))\n",
    "data = tuple(map(list, name))\n",
    "data"
   ]
  },
  {
   "cell_type": "markdown",
   "id": "ca4dd6db",
   "metadata": {},
   "source": [
    "16. Variables that \"contain\" list values are not necessarily lists themselves. Instead, what do they contain?"
   ]
  },
  {
   "cell_type": "markdown",
   "id": "dae0e598",
   "metadata": {},
   "source": [
    "Ans. Variables will contain references to list values rather than list values themselves. "
   ]
  },
  {
   "cell_type": "markdown",
   "id": "9932f4e8",
   "metadata": {},
   "source": [
    "17. How do you distinguish between copy.copy() and copy.deepcopy()?"
   ]
  },
  {
   "cell_type": "markdown",
   "id": "2b80a8b3",
   "metadata": {},
   "source": [
    "Ans. copy() create reference to original object. If you change copied object - you change the original object. . deepcopy() creates new object and does real copying of original object to new one. Changing new deepcopied object doesn't affect original object."
   ]
  },
  {
   "cell_type": "code",
   "execution_count": null,
   "id": "5894e860",
   "metadata": {},
   "outputs": [],
   "source": []
  }
 ],
 "metadata": {
  "kernelspec": {
   "display_name": "Python 3 (ipykernel)",
   "language": "python",
   "name": "python3"
  },
  "language_info": {
   "codemirror_mode": {
    "name": "ipython",
    "version": 3
   },
   "file_extension": ".py",
   "mimetype": "text/x-python",
   "name": "python",
   "nbconvert_exporter": "python",
   "pygments_lexer": "ipython3",
   "version": "3.7.11"
  }
 },
 "nbformat": 4,
 "nbformat_minor": 5
}

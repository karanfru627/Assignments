{
 "cells": [
  {
   "cell_type": "code",
   "execution_count": 2,
   "id": "b17d7cc7",
   "metadata": {},
   "outputs": [],
   "source": [
    "#1.What are the two values of the Boolean data type? How do you write them?"
   ]
  },
  {
   "cell_type": "markdown",
   "id": "80ce4672",
   "metadata": {},
   "source": [
    "Ans - True and False are the two values of the Boolean datga type. we can write them like True and False."
   ]
  },
  {
   "cell_type": "code",
   "execution_count": 3,
   "id": "223768d2",
   "metadata": {},
   "outputs": [],
   "source": [
    "#2. What are the three different types of Boolean operators?"
   ]
  },
  {
   "cell_type": "markdown",
   "id": "1954ed29",
   "metadata": {},
   "source": [
    "Ans - AND, OR, and NOT are the three different types of Boolean operators."
   ]
  },
  {
   "cell_type": "code",
   "execution_count": 4,
   "id": "942e8cf7",
   "metadata": {},
   "outputs": [],
   "source": [
    "#3. Make a list of each Boolean operator's truth tables (i.e. every possible combination of Boolean values for the operator and what it evaluate )."
   ]
  },
  {
   "cell_type": "markdown",
   "id": "e68a5454",
   "metadata": {},
   "source": [
    "Ans-AND TABLE\n",
    "P  Q   P^Q\n",
    "T  T    T\n",
    "T  F    F \n",
    "F  F    F \n",
    "F  T    F \n",
    "\n",
    "OR TABLE \n",
    "P   Q   P.Q\n",
    "T   T    T\n",
    "T   F    T\n",
    "F   F    F\n",
    "F   T    T\n",
    "\n",
    "NOT TABLE \n",
    "X   Y\n",
    "T   F\n",
    "F   T"
   ]
  },
  {
   "cell_type": "code",
   "execution_count": 5,
   "id": "ae082059",
   "metadata": {},
   "outputs": [],
   "source": [
    "#4. What are the values of the following expressions?"
   ]
  },
  {
   "cell_type": "markdown",
   "id": "ff1159c2",
   "metadata": {},
   "source": [
    "Ans-\n",
    "(5 > 4) and (3 == 5)             -- False\n",
    "not (5 > 4)                      -- False\n",
    "(5 > 4) or (3 == 5)              -- True\n",
    "not ((5 > 4) or (3 == 5))        -- False\n",
    "(True and True) and (True == False) -- False\n",
    "(not False) or (not True)        -- True"
   ]
  },
  {
   "cell_type": "code",
   "execution_count": 6,
   "id": "82b40636",
   "metadata": {},
   "outputs": [],
   "source": [
    "#5. What are the six comparison operators?"
   ]
  },
  {
   "cell_type": "markdown",
   "id": "60cd2bb1",
   "metadata": {},
   "source": [
    "Ans-\n",
    "Python has six comparison operators, which are as follows:\n",
    "\n",
    "1.Less than ( < )\n",
    "2.Less than or equal to (<=)\n",
    "3.Greater than (>)\n",
    "4.Greater than or equal to (>=)\n",
    "5.Equal to ( == )\n",
    "6.Not equal to ( != )"
   ]
  },
  {
   "cell_type": "code",
   "execution_count": 7,
   "id": "a94b5bab",
   "metadata": {},
   "outputs": [],
   "source": [
    "#6. How do you tell the difference between the equal to and assignment operators?Describe a condition and when you would use one."
   ]
  },
  {
   "cell_type": "markdown",
   "id": "e1eb70a8",
   "metadata": {},
   "source": [
    "Ans-\n",
    "'=' is a assignment operator.It is used for assigning the value to a variable.\n",
    "'==' is a equal to operator.It is used for comparing two values. It returns 1 if both the values are equal otherwise returns 0."
   ]
  },
  {
   "cell_type": "code",
   "execution_count": 10,
   "id": "86b96e92",
   "metadata": {},
   "outputs": [
    {
     "data": {
      "text/plain": [
       "\"7. Identify the three blocks in this code:\\nspam = 0\\nif spam == 10:\\nprint('eggs')\\nif spam > 5:\\nprint('bacon')\\nelse:\\nprint('ham')\\nprint('spam')\\nprint('spam')\""
      ]
     },
     "execution_count": 10,
     "metadata": {},
     "output_type": "execute_result"
    }
   ],
   "source": [
    "\"\"\"7. Identify the three blocks in this code:\n",
    "spam = 0\n",
    "if spam == 10:\n",
    "print('eggs')\n",
    "if spam > 5:\n",
    "print('bacon')\n",
    "else:\n",
    "print('ham')\n",
    "print('spam')\n",
    "print('spam')\"\"\""
   ]
  },
  {
   "cell_type": "markdown",
   "id": "dfc2bd95",
   "metadata": {},
   "source": [
    "Ans-\n",
    "1.indenting format.\n",
    "2.two if conditions used.\n"
   ]
  },
  {
   "cell_type": "code",
   "execution_count": 11,
   "id": "03efc160",
   "metadata": {},
   "outputs": [],
   "source": [
    "#8. Write code that prints Hello if 1 is stored in spam, prints Howdy if 2 is stored in spam, and prints Greetings! if anything else is stored in spam."
   ]
  },
  {
   "cell_type": "code",
   "execution_count": 14,
   "id": "ce97fd70",
   "metadata": {},
   "outputs": [
    {
     "name": "stdout",
     "output_type": "stream",
     "text": [
      "3\n",
      "Greeting!\n"
     ]
    }
   ],
   "source": [
    "spam = int(input())\n",
    "if spam == 1:\n",
    "    print(\"Hello\")\n",
    "elif spam == 2:\n",
    "    print(\"Howdy\")\n",
    "else:\n",
    "    print(\"Greeting!\")"
   ]
  },
  {
   "cell_type": "code",
   "execution_count": 15,
   "id": "f21328b9",
   "metadata": {},
   "outputs": [],
   "source": [
    "#9.If your programme is stuck in an endless loop, what keys you’ll press?"
   ]
  },
  {
   "cell_type": "markdown",
   "id": "7733c37e",
   "metadata": {},
   "source": [
    "Ans-\n",
    "Ctrl + C"
   ]
  },
  {
   "cell_type": "code",
   "execution_count": 16,
   "id": "50304508",
   "metadata": {},
   "outputs": [],
   "source": [
    "#10. How can you tell the difference between break and continue?"
   ]
  },
  {
   "cell_type": "markdown",
   "id": "146593ca",
   "metadata": {},
   "source": [
    "Ans-\n",
    "The main difference between both the statements is that when break keyword comes, it terminates the execution of the current loop and passes the control over the next loop or main body, whereas when continue keyword is encountered, it skips the current iteration and executes the very next iteration in the loop."
   ]
  },
  {
   "cell_type": "code",
   "execution_count": 17,
   "id": "c000f557",
   "metadata": {},
   "outputs": [],
   "source": [
    "#11. In a for loop, what is the difference between range(10), range(0, 10), and range(0, 10, 1)?"
   ]
  },
  {
   "cell_type": "markdown",
   "id": "938f6226",
   "metadata": {},
   "source": [
    "Ans- \n",
    "There is no difference in between range(10), range(0,10) and range(0,10,1) tthey all worked as same.\n",
    "Only the difference is written form is different."
   ]
  },
  {
   "cell_type": "code",
   "execution_count": 19,
   "id": "8d81904e",
   "metadata": {},
   "outputs": [],
   "source": [
    "#12. Write a short program that prints the numbers 1 to 10 using a for loop. Then write an equivalent program that prints the numbers 1 to 10 using a while loop."
   ]
  },
  {
   "cell_type": "code",
   "execution_count": 24,
   "id": "d27512b5",
   "metadata": {},
   "outputs": [
    {
     "name": "stdout",
     "output_type": "stream",
     "text": [
      "Printing 1 to 10 using for loop\n",
      "1 2 3 4 5 6 7 8 9 10 \n",
      "\n",
      "Printing 1 to 10 using while loop\n",
      "1 2 3 4 5 6 7 8 9 10 "
     ]
    }
   ],
   "source": [
    "print(\"Printing 1 to 10 using for loop\")\n",
    "for i in range(1,11):\n",
    "    print(i,end = \" \")\n",
    "print(\"\\n\")\n",
    "i=1\n",
    "print(\"Printing 1 to 10 using while loop\")\n",
    "while i < 11:\n",
    "    print(i,end = \" \")\n",
    "    i+=1"
   ]
  },
  {
   "cell_type": "code",
   "execution_count": 25,
   "id": "cf253df1",
   "metadata": {},
   "outputs": [],
   "source": [
    "#13.If you had a function named bacon() inside a module named spam, how would you call it after importing spam?"
   ]
  },
  {
   "cell_type": "markdown",
   "id": "39defd45",
   "metadata": {},
   "source": [
    "Ans- \n",
    "importing spam \n",
    "call = spam.bacon()"
   ]
  },
  {
   "cell_type": "code",
   "execution_count": null,
   "id": "90f472b4",
   "metadata": {},
   "outputs": [],
   "source": []
  }
 ],
 "metadata": {
  "kernelspec": {
   "display_name": "Python 3 (ipykernel)",
   "language": "python",
   "name": "python3"
  },
  "language_info": {
   "codemirror_mode": {
    "name": "ipython",
    "version": 3
   },
   "file_extension": ".py",
   "mimetype": "text/x-python",
   "name": "python",
   "nbconvert_exporter": "python",
   "pygments_lexer": "ipython3",
   "version": "3.7.11"
  }
 },
 "nbformat": 4,
 "nbformat_minor": 5
}
